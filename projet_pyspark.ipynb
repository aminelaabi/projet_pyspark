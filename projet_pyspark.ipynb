{
 "cells": [
  {
   "attachments": {},
   "cell_type": "markdown",
   "metadata": {},
   "source": [
    "# Imported datasets\n",
    "\n",
    "airport.csv https://ourairports.com/data/\n",
    "airlines.csv https://raw.githubusercontent.com/jpatokal/openflights/master/data/airlines.dat\n",
    "aircrafts.csv https://raw.githubusercontent.com/jpatokal/openflights/master/data/planes.dat\n",
    "\n",
    "\n",
    "https://openflights.org/data.html#airline\n",
    "https://applications.icao.int/dataservices/default.aspx"
   ]
  },
  {
   "cell_type": "code",
   "execution_count": 1,
   "metadata": {},
   "outputs": [
    {
     "name": "stdout",
     "output_type": "stream",
     "text": [
      "Collecting FlightRadarAPI\n",
      "  Downloading FlightRadarAPI-1.2.3.tar.gz (7.5 kB)\n",
      "  Preparing metadata (setup.py) ... \u001b[?25ldone\n",
      "\u001b[?25hCollecting Brotli\n",
      "  Downloading Brotli-1.0.9-cp310-cp310-manylinux_2_5_x86_64.manylinux1_x86_64.manylinux_2_12_x86_64.manylinux2010_x86_64.whl (2.7 MB)\n",
      "\u001b[2K     \u001b[90m━━━━━━━━━━━━━━━━━━━━━━━━━━━━━━━━━━━━━━━━\u001b[0m \u001b[32m2.7/2.7 MB\u001b[0m \u001b[31m3.6 MB/s\u001b[0m eta \u001b[36m0:00:00\u001b[0m00:01\u001b[0m00:01\u001b[0m\n",
      "\u001b[?25hRequirement already satisfied: requests in /opt/conda/lib/python3.10/site-packages (from FlightRadarAPI) (2.28.2)\n",
      "Collecting Deprecated\n",
      "  Downloading Deprecated-1.2.13-py2.py3-none-any.whl (9.6 kB)\n",
      "Collecting wrapt<2,>=1.10\n",
      "  Downloading wrapt-1.15.0-cp310-cp310-manylinux_2_5_x86_64.manylinux1_x86_64.manylinux_2_17_x86_64.manylinux2014_x86_64.whl (78 kB)\n",
      "\u001b[2K     \u001b[90m━━━━━━━━━━━━━━━━━━━━━━━━━━━━━━━━━━━━━━━━\u001b[0m \u001b[32m78.4/78.4 kB\u001b[0m \u001b[31m6.2 MB/s\u001b[0m eta \u001b[36m0:00:00\u001b[0m\n",
      "\u001b[?25hRequirement already satisfied: idna<4,>=2.5 in /opt/conda/lib/python3.10/site-packages (from requests->FlightRadarAPI) (3.4)\n",
      "Requirement already satisfied: charset-normalizer<4,>=2 in /opt/conda/lib/python3.10/site-packages (from requests->FlightRadarAPI) (2.1.1)\n",
      "Requirement already satisfied: urllib3<1.27,>=1.21.1 in /opt/conda/lib/python3.10/site-packages (from requests->FlightRadarAPI) (1.26.14)\n",
      "Requirement already satisfied: certifi>=2017.4.17 in /opt/conda/lib/python3.10/site-packages (from requests->FlightRadarAPI) (2022.12.7)\n",
      "Building wheels for collected packages: FlightRadarAPI\n",
      "  Building wheel for FlightRadarAPI (setup.py) ... \u001b[?25ldone\n",
      "\u001b[?25h  Created wheel for FlightRadarAPI: filename=FlightRadarAPI-1.2.3-py3-none-any.whl size=8741 sha256=dacc668c15c6e1474190f001f4e9ba960be3fa1a81504cb01e4c654a11d8dc17\n",
      "  Stored in directory: /home/jovyan/.cache/pip/wheels/96/79/4a/2cb77e60b81d8cf00355fd12ff2654a24e49e5d5a68f24517b\n",
      "Successfully built FlightRadarAPI\n",
      "Installing collected packages: Brotli, wrapt, Deprecated, FlightRadarAPI\n",
      "Successfully installed Brotli-1.0.9 Deprecated-1.2.13 FlightRadarAPI-1.2.3 wrapt-1.15.0\n",
      "--2023-03-03 17:30:42--  https://davidmegginson.github.io/ourairports-data/airports.csv\n",
      "Resolving davidmegginson.github.io (davidmegginson.github.io)... 185.199.110.153, 185.199.111.153, 185.199.109.153, ...\n",
      "Connecting to davidmegginson.github.io (davidmegginson.github.io)|185.199.110.153|:443... connected.\n",
      "HTTP request sent, awaiting response... 200 OK\n",
      "Length: 10736053 (10M) [text/csv]\n",
      "Saving to: ‘airports.csv’\n",
      "\n",
      "airports.csv        100%[===================>]  10.24M  2.85MB/s    in 3.5s    \n",
      "\n",
      "2023-03-03 17:30:46 (2.88 MB/s) - ‘airports.csv’ saved [10736053/10736053]\n",
      "\n",
      "--2023-03-03 17:30:48--  https://raw.githubusercontent.com/jpatokal/openflights/master/data/airlines.dat\n",
      "Resolving raw.githubusercontent.com (raw.githubusercontent.com)... 185.199.108.133, 185.199.111.133, 185.199.110.133, ...\n",
      "Connecting to raw.githubusercontent.com (raw.githubusercontent.com)|185.199.108.133|:443... connected.\n",
      "HTTP request sent, awaiting response... 200 OK\n",
      "Length: 396896 (388K) [text/plain]\n",
      "Saving to: ‘airlines.dat’\n",
      "\n",
      "airlines.dat        100%[===================>] 387.59K  2.16MB/s    in 0.2s    \n",
      "\n",
      "2023-03-03 17:30:48 (2.16 MB/s) - ‘airlines.dat’ saved [396896/396896]\n",
      "\n",
      "--2023-03-03 17:30:50--  https://raw.githubusercontent.com/jpatokal/openflights/master/data/planes.dat\n",
      "Resolving raw.githubusercontent.com (raw.githubusercontent.com)... 185.199.109.133, 185.199.108.133, 185.199.111.133, ...\n",
      "Connecting to raw.githubusercontent.com (raw.githubusercontent.com)|185.199.109.133|:443... connected.\n",
      "HTTP request sent, awaiting response... 200 OK\n",
      "Length: 8331 (8.1K) [text/plain]\n",
      "Saving to: ‘planes.dat’\n",
      "\n",
      "planes.dat          100%[===================>]   8.14K  --.-KB/s    in 0s      \n",
      "\n",
      "2023-03-03 17:30:50 (21.1 MB/s) - ‘planes.dat’ saved [8331/8331]\n",
      "\n"
     ]
    }
   ],
   "source": [
    "!pip install FlightRadarAPI\n",
    "!wget https://davidmegginson.github.io/ourairports-data/airports.csv\n",
    "!wget https://raw.githubusercontent.com/jpatokal/openflights/master/data/airlines.dat\n",
    "!wget https://raw.githubusercontent.com/jpatokal/openflights/master/data/planes.dat"
   ]
  },
  {
   "cell_type": "code",
   "execution_count": 2,
   "metadata": {},
   "outputs": [],
   "source": [
    "from pyspark import SparkContext\n",
    "from pyspark.sql import SparkSession\n",
    "from pyspark.sql.functions import broadcast, udf, expr\n",
    "from pyspark.sql.types import FloatType, StructType, StructField, StringType\n",
    "from pyspark.sql.dataframe import DataFrame\n",
    "from FlightRadar24.api import FlightRadar24API\n",
    "\n",
    "\n",
    "sc = SparkContext.getOrCreate()\n",
    "spark = SparkSession(sc)"
   ]
  },
  {
   "cell_type": "code",
   "execution_count": 3,
   "metadata": {},
   "outputs": [],
   "source": [
    "def get_and_write_flights() -> DataFrame:\n",
    "    \"\"\"Get flights from FlightRadar24 and write them to the file\"\"\"\n",
    "\n",
    "    def get_file_name() -> str:\n",
    "        \"\"\"Generate file name for the current date and time\"\"\"\n",
    "        \n",
    "        from datetime import datetime\n",
    "        now = datetime.now()\n",
    "        year = now.year\n",
    "        month = now.month\n",
    "        day = now.day\n",
    "        hour = now.hour\n",
    "        minute = now.minute\n",
    "        second = now.second\n",
    "        milisecond = now.microsecond // 10_000\n",
    "        return f\"Flights/rawzone/tech_year={year}/tech_month={year}-{month}/tech_day={year}-{month}-{day}/flights{year}{month}{day}{hour}{minute}{second}{milisecond}.csv\"\n",
    "\n",
    "\n",
    "    fr_api = FlightRadar24API()\n",
    "    flights = fr_api.get_flights()\n",
    "\n",
    "    df = spark.createDataFrame(flights)\n",
    "    df.coalesce(1).write.csv(get_file_name(), mode='overwrite', header=True, sep=';')\n",
    "    return df"
   ]
  },
  {
   "cell_type": "code",
   "execution_count": 4,
   "metadata": {},
   "outputs": [],
   "source": [
    "def clean_dataframe(df: DataFrame) -> DataFrame:\n",
    "    \"\"\"Clean dataframe\"\"\"\n",
    "\n",
    "    df = df.filter(~df.destination_airport_iata.isin([\"NaN\", \"N/A\"]))\n",
    "    df = df.filter(~df.origin_airport_iata.isin([\"NaN\", \"N/A\"]))\n",
    "    \n",
    "    return df"
   ]
  },
  {
   "cell_type": "code",
   "execution_count": 5,
   "metadata": {},
   "outputs": [],
   "source": [
    "def add_distance_dataframe(df: DataFrame) -> DataFrame:\n",
    "    \"\"\"Add details to dataframe\"\"\"\n",
    "    from math import sin, cos, sqrt, atan2, radians\n",
    "    def distance(lat1: float, lon1: float, lat2: float, lon2: float) -> float:\n",
    "        \"\"\"Calculate distance between two points\"\"\"\n",
    "        if lat1 is None or lon1 is None or lat2 is None or lon2 is None:\n",
    "            return -1\n",
    "        # approximate radius of earth in km\n",
    "        R = 6373.0\n",
    "\n",
    "        lat1 = radians(lat1)\n",
    "        lon1 = radians(lon1)\n",
    "        lat2 = radians(lat2)\n",
    "        lon2 = radians(lon2)\n",
    "\n",
    "        dlon = lon2 - lon1\n",
    "        dlat = lat2 - lat1\n",
    "\n",
    "        a = sin(dlat / 2)**2 + cos(lat1) * cos(lat2) * sin(dlon / 2)**2\n",
    "        c = 2 * atan2(sqrt(a), sqrt(1 - a))\n",
    "\n",
    "        distance = R * c\n",
    "        return distance\n",
    "    \n",
    "    distance_udf = udf(distance, FloatType())\n",
    "\n",
    "    df_airport = spark.read.csv(\"airports.csv\", header=True, sep=',')\n",
    "    df_airport = df_airport.drop(\"id\", \"ident\", \"type\", \"name\", \"elevation_ft\", \"iso_region\", \"municipality\", \"scheduled_service\", \"gps_code\", \"local_code\", \"home_link\", \"wikipedia_link\", \"keywords\", \"iso_country\")\n",
    "\n",
    "    df_airport = df_airport.filter(df_airport.iata_code.isNotNull() & df_airport.continent.isNotNull())\n",
    "\n",
    "    df_airport = df_airport.withColumn(\"latitude_deg\", df_airport[\"latitude_deg\"].cast(\"float\"))\n",
    "    df_airport = df_airport.withColumn(\"longitude_deg\", df_airport[\"longitude_deg\"].cast(\"float\"))\n",
    "    \n",
    "    df_airport_destination = df_airport.withColumnRenamed(\"iata_code\", \"destination_airport_iata\")\\\n",
    "                                       .withColumnRenamed(\"latitude_deg\", \"destination_latitude_deg\")\\\n",
    "                                       .withColumnRenamed(\"longitude_deg\", \"destination_longitude_deg\")\\\n",
    "                                       .withColumnRenamed(\"continent\", \"destination_airport_continent\")\n",
    "    \n",
    "    df_airport_origin = df_airport.withColumnRenamed(\"iata_code\", \"origin_airport_iata\")\\\n",
    "                                  .withColumnRenamed(\"latitude_deg\", \"origin_latitude_deg\")\\\n",
    "                                  .withColumnRenamed(\"longitude_deg\", \"origin_longitude_deg\")\\\n",
    "                                  .withColumnRenamed(\"continent\", \"origin_airport_continent\")\n",
    "\n",
    "    df = df.join(broadcast(df_airport_destination), [\"destination_airport_iata\"], how='left')\n",
    "    df = df.join(broadcast(df_airport_origin), [\"origin_airport_iata\"], how='left')\n",
    "\n",
    "    df = df.withColumn(\"distance\", distance_udf(df.origin_latitude_deg, df.origin_longitude_deg, df.destination_latitude_deg, df.destination_longitude_deg))\n",
    "    \n",
    "    return df\n",
    "\n",
    "\n",
    "def add_aircrafts_dataframe(df: DataFrame) -> DataFrame:\n",
    "    \"\"\"Add aircrafts to dataframe\"\"\"\n",
    "    df_aircrafts = spark.read.csv(\"planes.dat\", header=False, sep=',')\n",
    "    df_aircrafts = df_aircrafts.drop(\"_c1\")\n",
    "    df_aircrafts = df_aircrafts.withColumnRenamed(\"_c0\", \"aircraft_name\")\\\n",
    "                               .withColumnRenamed(\"_c2\", \"aircraft_code\")\n",
    "    df_aircrafts = df_aircrafts.filter(df_aircrafts.aircraft_code.isNotNull())\n",
    "    \n",
    "    df = df.join(broadcast(df_aircrafts), df.aircraft_code == df_aircrafts.aircraft_code, how='left')\n",
    "    return df\n",
    "\n",
    "def add_airlines_dataframe(df: DataFrame) -> DataFrame:\n",
    "    \"\"\"Add airlines to dataframe\"\"\"\n",
    "    df_airlines = spark.read.csv(\"airlines.dat\", header=False, sep=',')\n",
    "    df_airlines = df_airlines.select(\"_c1\",\"_c3\", \"_c4\")\n",
    "    df_airlines = df_airlines.withColumnRenamed(\"_c1\", \"airline_name\")\\\n",
    "                             .withColumnRenamed(\"_c3\", \"airline_iata\")\\\n",
    "                             .withColumnRenamed(\"_c4\", \"airline_icao\")\n",
    "    \n",
    "    df_airlines = df_airlines.filter(df_airlines.airline_iata.isNotNull() | df_airlines.airline_icao.isNotNull())\n",
    "\n",
    "    df = df.join(broadcast(df_airlines), [(df.airline_icao == df_airlines.airline_icao) | (df.airline_iata == df_airlines.airline_iata)], how='left')\n",
    "    df = df.drop(\"airline_icao\").drop(\"airline_iata\")\n",
    "    \n",
    "    return df\n"
   ]
  },
  {
   "cell_type": "code",
   "execution_count": 6,
   "metadata": {},
   "outputs": [],
   "source": [
    "def get_active_flights(df: DataFrame) -> DataFrame:\n",
    "    \"\"\"Get active flights\"\"\"\n",
    "\n",
    "    df = df.filter(df.on_ground == 0)\n",
    "    return df"
   ]
  },
  {
   "cell_type": "code",
   "execution_count": 7,
   "metadata": {},
   "outputs": [],
   "source": [
    "df = get_and_write_flights()\n",
    "\n",
    "df = clean_dataframe(df)\n",
    "\n",
    "df = add_distance_dataframe(df)\n",
    "df = add_aircrafts_dataframe(df)\n",
    "df = add_airlines_dataframe(df)\n",
    "\n",
    "df_active = get_active_flights(df)"
   ]
  },
  {
   "cell_type": "code",
   "execution_count": 10,
   "metadata": {},
   "outputs": [],
   "source": [
    "schema = StructType([\n",
    "    StructField(\"continent_name\", StringType(), True),\n",
    "    StructField(\"continent\", StringType(), True)\n",
    "])\n",
    "\n",
    "data = [(\"North America\", \"NA\"), \n",
    "        (\"South America\", \"SA\"), \n",
    "        (\"Europe\", \"EU\"), \n",
    "        (\"Asia\", \"AS\"), \n",
    "        (\"Africa\", \"AF\"), \n",
    "        (\"Australia\", \"OC\")]\n",
    "df_continent = broadcast(spark.createDataFrame(data, schema))"
   ]
  },
  {
   "cell_type": "code",
   "execution_count": 11,
   "metadata": {},
   "outputs": [],
   "source": [
    "# Q1\n",
    "\n",
    "df_active.createOrReplaceTempView(\"df_active\")\n",
    "\n",
    "df_q1 = spark.sql(\"\"\"SELECT airline_name, COUNT(airline_name) AS nb_flights \n",
    "                                 FROM df_active \n",
    "                                 GROUP BY airline_name \n",
    "                                 ORDER BY nb_flights DESC \n",
    "                                 LIMIT 1\"\"\")"
   ]
  },
  {
   "cell_type": "code",
   "execution_count": 14,
   "metadata": {},
   "outputs": [],
   "source": [
    "# Q2 \n",
    "\n",
    "df_q2 = df_active.groupBy(\"origin_airport_continent\", \"destination_airport_continent\", \"airline_name\")\\\n",
    "          .agg({\"airline_name\": \"count\"})\\\n",
    "          .orderBy(\"count(airline_name)\", ascending=False)\\\n",
    "          .filter(df_active.origin_airport_continent == df_active.destination_airport_continent)\n",
    "\n",
    "df_q2 = df_q2.withColumnRenamed(\"count(airline_name)\", \"number_of_flights\")\\\n",
    "             .drop(\"origin_airport_continent\")\\\n",
    "             .withColumnRenamed(\"destination_airport_continent\", \"continent\")\n",
    "\n",
    "\n",
    "df_q2.createOrReplaceTempView(\"df_q2\")\n",
    "\n",
    "\n",
    "df_q2 = spark.sql(\"\"\"\n",
    "    SELECT continent, airline_name, number_of_flights\n",
    "    FROM (\n",
    "        SELECT continent, airline_name, number_of_flights,\n",
    "        ROW_NUMBER() OVER (PARTITION BY continent ORDER BY number_of_flights DESC) AS row_number\n",
    "        FROM df_q2\n",
    "    )\n",
    "    WHERE row_number = 1\n",
    "\"\"\")\n",
    "\n",
    "df_q2 = df_q2.join(df_continent, df_q2.continent == df_continent.continent, how='left')             \n",
    "df_q2 = df_q2.drop(\"continent\")"
   ]
  },
  {
   "cell_type": "code",
   "execution_count": 15,
   "metadata": {},
   "outputs": [],
   "source": [
    "# Q3\n",
    "\n",
    "df_q3 = spark.sql(\"\"\"\n",
    "    SELECT * FROM df_active\n",
    "    WHERE distance = (SELECT MAX(distance) FROM df_active)\n",
    "\"\"\")"
   ]
  },
  {
   "cell_type": "code",
   "execution_count": 17,
   "metadata": {},
   "outputs": [],
   "source": [
    "# Q4\n",
    "\n",
    "df.createOrReplaceTempView(\"df\")\n",
    "\n",
    "df_q4 = spark.sql(\"\"\"\n",
    "    SELECT origin_airport_continent, AVG(distance) AS distance_mean\n",
    "    FROM df\n",
    "    WHERE distance > 0\n",
    "    GROUP BY origin_airport_continent\n",
    "\"\"\")\n",
    "\n",
    "df_q4 = df_q4.join(df_continent, df_q4.origin_airport_continent == df_continent.continent, how='left')\n",
    "df_q4 = df_q4.drop(\"origin_airport_continent\", \"continent\")"
   ]
  },
  {
   "cell_type": "code",
   "execution_count": 18,
   "metadata": {},
   "outputs": [],
   "source": [
    "# Q5\n",
    "\n",
    "df_q5 = df_active.groupBy(\"aircraft_name\")\\\n",
    "            .agg({\"aircraft_name\": \"count\"})\\\n",
    "            .orderBy(\"count(aircraft_name)\", ascending=False)\\\n",
    "            .limit(1)\n",
    "\n",
    "df_q5 = df_q5.withColumnRenamed(\"count(aircraft_name)\", \"number_of_flights\")\\\n",
    "                .withColumnRenamed(\"aircraft_name\", \"aircraft\")"
   ]
  },
  {
   "cell_type": "code",
   "execution_count": 19,
   "metadata": {},
   "outputs": [],
   "source": [
    "# Q6\n",
    "\n",
    "df_q6 = df.groupBy(\"airline_name\", \"aircraft_name\")\\\n",
    "          .agg({\"airline_name\": \"count\"})\\\n",
    "          .orderBy(\"count(airline_name)\", ascending=False)\\\n",
    "          .filter(df.airline_name.isNotNull())\\\n",
    "          .filter(df.aircraft_name.isNotNull())\n",
    "\n",
    "df_q6 = df_q6.withColumnRenamed(\"count(airline_name)\", \"number_of_flights\")\n",
    "\n",
    "df_q6.createOrReplaceTempView(\"df_q6\")\n",
    "\n",
    "df_q6 = spark.sql(\"\"\"\n",
    "    SELECT airline_name, aircraft_name, number_of_flights\n",
    "    FROM (\n",
    "        SELECT airline_name, aircraft_name, number_of_flights,\n",
    "        ROW_NUMBER() OVER (PARTITION BY airline_name ORDER BY number_of_flights DESC) AS row_number\n",
    "        FROM df_q6\n",
    "    )\n",
    "    WHERE row_number <= 3\n",
    "\"\"\")"
   ]
  },
  {
   "cell_type": "code",
   "execution_count": 21,
   "metadata": {},
   "outputs": [],
   "source": [
    "# Question Bonus\n",
    "\n",
    "df_qb_1 = spark.sql(\"\"\"\n",
    "    SELECT origin_airport_iata, COUNT(id) AS nb_departures\n",
    "    FROM df\n",
    "    GROUP BY origin_airport_iata\n",
    "\"\"\")\n",
    "                    \n",
    "df_qb_2 = spark.sql(\"\"\"\n",
    "    SELECT destination_airport_iata, COUNT(id) AS nb_arrivals\n",
    "    FROM df\n",
    "    GROUP BY destination_airport_iata\n",
    "\"\"\")\n",
    "\n",
    "# Clean des valeurs nuls\n",
    "df_qb_1 = df_qb_1.filter(df_qb_1.origin_airport_iata.isNotNull())\n",
    "df_qb_2 = df_qb_2.filter(df_qb_2.destination_airport_iata.isNotNull())\n",
    "\n",
    "df_qb = df_qb_1.join(df_qb_2, df_qb_1.origin_airport_iata == df_qb_2.destination_airport_iata)\n",
    "\n",
    "\n",
    "df_qb = df_qb.withColumn(\"difference\", expr(\"abs(nb_departures - nb_arrivals)\"))\n",
    "df_qb = df_qb.drop(\"origin_airport_iata\", \"nb_departures\", \"nb_arrivals\")\\\n",
    "             .withColumnRenamed(\"destination_airport_iata\", \"airport_iata\")\n",
    "\n",
    "df_qb.createOrReplaceTempView(\"df_qb\")\n",
    "\n",
    "\n",
    "df_qb = spark.sql(\"\"\"\n",
    "    SELECT * FROM df_qb\n",
    "    WHERE difference = (SELECT MAX(difference) FROM df_qb)\n",
    "\"\"\")\n"
   ]
  },
  {
   "cell_type": "code",
   "execution_count": 22,
   "metadata": {},
   "outputs": [
    {
     "data": {
      "text/plain": [
       "True"
      ]
     },
     "execution_count": 22,
     "metadata": {},
     "output_type": "execute_result"
    }
   ],
   "source": [
    "# Clean des vues\n",
    "\n",
    "spark.catalog.dropTempView(\"df\")\n",
    "spark.catalog.dropTempView(\"df_active\")\n",
    "spark.catalog.dropTempView(\"df_q2\")\n",
    "spark.catalog.dropTempView(\"df_q6\")\n",
    "spark.catalog.dropTempView(\"df_qb\")"
   ]
  },
  {
   "cell_type": "code",
   "execution_count": 23,
   "metadata": {},
   "outputs": [
    {
     "name": "stdout",
     "output_type": "stream",
     "text": [
      "+---------------+----------+\n",
      "|   airline_name|nb_flights|\n",
      "+---------------+----------+\n",
      "|United Airlines|        70|\n",
      "+---------------+----------+\n",
      "\n"
     ]
    }
   ],
   "source": [
    "# Affichage Q1\n",
    "df_q1.show()"
   ]
  },
  {
   "cell_type": "code",
   "execution_count": 24,
   "metadata": {},
   "outputs": [
    {
     "name": "stdout",
     "output_type": "stream",
     "text": [
      "+--------------------+-----------------+--------------+\n",
      "|        airline_name|number_of_flights|continent_name|\n",
      "+--------------------+-----------------+--------------+\n",
      "|  Ethiopian Airlines|               10|        Africa|\n",
      "|       Qatar Airways|               15|          Asia|\n",
      "|Aeroflot Russian ...|                3|        Europe|\n",
      "|   American Airlines|               31| North America|\n",
      "|              Qantas|                2|     Australia|\n",
      "|Avianca - Aerovia...|                2| South America|\n",
      "+--------------------+-----------------+--------------+\n",
      "\n"
     ]
    }
   ],
   "source": [
    "# Affichage Q2\n",
    "df_q2.show()"
   ]
  },
  {
   "cell_type": "code",
   "execution_count": 25,
   "metadata": {},
   "outputs": [
    {
     "name": "stdout",
     "output_type": "stream",
     "text": [
      "+-------------------+------------------------+-------------+--------+--------+------------+-------+----------+--------+--------+---------+------+---------+------------+------+----------+--------------+------------------------+-------------------------+-----------------------------+-------------------+--------------------+------------------------+---------+---------------+-------------+--------------------+\n",
      "|origin_airport_iata|destination_airport_iata|aircraft_code|altitude|callsign|ground_speed|heading|icao_24bit|      id|latitude|longitude|number|on_ground|registration|squawk|      time|vertical_speed|destination_latitude_deg|destination_longitude_deg|destination_airport_continent|origin_latitude_deg|origin_longitude_deg|origin_airport_continent| distance|  aircraft_name|aircraft_code|        airline_name|\n",
      "+-------------------+------------------------+-------------+--------+--------+------------+-------+----------+--------+--------+---------+------+---------+------------+------+----------+--------------+------------------------+-------------------------+-----------------------------+-------------------+--------------------+------------------------+---------+---------------+-------------+--------------------+\n",
      "|                JFK|                     SIN|         A359|   41000|   SIA23|         538|    106|    76CCE1|2f634a69| 23.5177|  71.0424|  SQ23|        0|      9V-SGA|   N/A|1677864946|             0|                 1.35019|                  103.994|                           AS|          40.639446|           -73.77932|                      NA|15345.416|Airbus A350-900|         A359|  Singapore Airlines|\n",
      "|                JFK|                     SIN|         A359|   41000|   SIA23|         538|    106|    76CCE1|2f634a69| 23.5177|  71.0424|  SQ23|        0|      9V-SGA|   N/A|1677864946|             0|                 1.35019|                  103.994|                           AS|          40.639446|           -73.77932|                      NA|15345.416|Airbus A350-900|         A359|Singapore Airline...|\n",
      "|                SIN|                     JFK|         A359|   41000|   SIA24|         486|    118|    76CCE5|2f635f64| 61.6399|-118.5396|  SQ24|        0|      9V-SGE|   N/A|1677864947|             0|               40.639446|                -73.77932|                           NA|            1.35019|             103.994|                      AS|15345.416|Airbus A350-900|         A359|  Singapore Airlines|\n",
      "|                SIN|                     JFK|         A359|   41000|   SIA24|         486|    118|    76CCE5|2f635f64| 61.6399|-118.5396|  SQ24|        0|      9V-SGE|   N/A|1677864947|             0|               40.639446|                -73.77932|                           NA|            1.35019|             103.994|                      AS|15345.416|Airbus A350-900|         A359|Singapore Airline...|\n",
      "+-------------------+------------------------+-------------+--------+--------+------------+-------+----------+--------+--------+---------+------+---------+------------+------+----------+--------------+------------------------+-------------------------+-----------------------------+-------------------+--------------------+------------------------+---------+---------------+-------------+--------------------+\n",
      "\n"
     ]
    }
   ],
   "source": [
    "# Affichage Q3\n",
    "df_q3.show()"
   ]
  },
  {
   "cell_type": "code",
   "execution_count": 26,
   "metadata": {},
   "outputs": [
    {
     "name": "stdout",
     "output_type": "stream",
     "text": [
      "+-----------------+--------------+\n",
      "|    distance_mean|continent_name|\n",
      "+-----------------+--------------+\n",
      "| 5287.37030444502| North America|\n",
      "|6145.360305373733| South America|\n",
      "|6806.829909319196|          Asia|\n",
      "|8872.555788352272|     Australia|\n",
      "|7228.824730491639|        Europe|\n",
      "|5012.622829127956|        Africa|\n",
      "+-----------------+--------------+\n",
      "\n"
     ]
    }
   ],
   "source": [
    "# Affichage Q4\n",
    "df_q4.show()"
   ]
  },
  {
   "cell_type": "code",
   "execution_count": 27,
   "metadata": {},
   "outputs": [
    {
     "name": "stdout",
     "output_type": "stream",
     "text": [
      "+----------------+-----------------+\n",
      "|        aircraft|number_of_flights|\n",
      "+----------------+-----------------+\n",
      "|Boeing 777-300ER|              177|\n",
      "+----------------+-----------------+\n",
      "\n"
     ]
    }
   ],
   "source": [
    "# Affichage Q5\n",
    "df_q5.show()"
   ]
  },
  {
   "cell_type": "code",
   "execution_count": 28,
   "metadata": {},
   "outputs": [
    {
     "name": "stdout",
     "output_type": "stream",
     "text": [
      "+--------------------+------------------+-----------------+\n",
      "|        airline_name|     aircraft_name|number_of_flights|\n",
      "+--------------------+------------------+-----------------+\n",
      "|  3 Valleys Airlines|    Boeing 747-400|                2|\n",
      "|ABSA - Aerolinhas...|    Boeing 767-300|                1|\n",
      "|             ABX Air|    Boeing 767-300|                1|\n",
      "|AJT Air Internati...|   Airbus A330-300|                1|\n",
      "|                ALAK|    Boeing 737-800|                1|\n",
      "|          Aer Lingus|   Airbus A330-300|                6|\n",
      "|          Aer Lingus|    Airbus A321neo|                5|\n",
      "|Aero Asia Interna...|    Boeing 737-800|                1|\n",
      "|          AeroMéxico|    Boeing 737-800|                2|\n",
      "|          AeroMéxico|      Boeing 787-9|                1|\n",
      "|          AeroMéxico|  Boeing 737 MAX 8|                1|\n",
      "|Aeroflot Russian ...|   Airbus A330-300|                3|\n",
      "|Aeroflot Russian ...|    Boeing 737-800|                2|\n",
      "|Aeroflot Russian ...|       Airbus A319|                1|\n",
      "|    Aeroland Airways|  Boeing 777-200LR|                8|\n",
      "|Aerolineas Argent...|   Airbus A330-200|                2|\n",
      "|African Business ...|   Airbus A330-200|                2|\n",
      "|         Air Algerie|   Airbus A330-200|                2|\n",
      "|         Air Algerie|Dassault Falcon 7X|                1|\n",
      "|Air Antilles Express|  Boeing 777-200LR|                8|\n",
      "+--------------------+------------------+-----------------+\n",
      "only showing top 20 rows\n",
      "\n"
     ]
    }
   ],
   "source": [
    "# Affichage Q6\n",
    "df_q6.show()"
   ]
  },
  {
   "cell_type": "code",
   "execution_count": 29,
   "metadata": {},
   "outputs": [
    {
     "name": "stdout",
     "output_type": "stream",
     "text": [
      "+------------+----------+\n",
      "|airport_iata|difference|\n",
      "+------------+----------+\n",
      "|         FRA|        83|\n",
      "+------------+----------+\n",
      "\n"
     ]
    }
   ],
   "source": [
    "# Affichage Q Bonus\n",
    "df_qb.show()"
   ]
  }
 ],
 "metadata": {
  "kernelspec": {
   "display_name": "Python 3 (ipykernel)",
   "language": "python",
   "name": "python3"
  },
  "language_info": {
   "codemirror_mode": {
    "name": "ipython",
    "version": 3
   },
   "file_extension": ".py",
   "mimetype": "text/x-python",
   "name": "python",
   "nbconvert_exporter": "python",
   "pygments_lexer": "ipython3",
   "version": "3.10.9"
  },
  "orig_nbformat": 4
 },
 "nbformat": 4,
 "nbformat_minor": 2
}
